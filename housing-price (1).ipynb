{
 "cells": [
  {
   "cell_type": "code",
   "execution_count": 1,
   "metadata": {
    "execution": {
     "iopub.execute_input": "2021-10-17T04:11:31.351696Z",
     "iopub.status.busy": "2021-10-17T04:11:31.351348Z",
     "iopub.status.idle": "2021-10-17T04:11:31.371762Z",
     "shell.execute_reply": "2021-10-17T04:11:31.371110Z",
     "shell.execute_reply.started": "2021-10-17T04:11:31.351603Z"
    }
   },
   "outputs": [],
   "source": [
    "import numpy as np # linear algebra\n",
    "import pandas as pd # data processing\n",
    "\n",
    "\n"
   ]
  },
  {
   "cell_type": "code",
   "execution_count": 2,
   "metadata": {
    "execution": {
     "iopub.execute_input": "2021-10-17T04:11:31.394058Z",
     "iopub.status.busy": "2021-10-17T04:11:31.393803Z",
     "iopub.status.idle": "2021-10-17T04:11:31.468107Z",
     "shell.execute_reply": "2021-10-17T04:11:31.467444Z",
     "shell.execute_reply.started": "2021-10-17T04:11:31.394025Z"
    }
   },
   "outputs": [
    {
     "ename": "FileNotFoundError",
     "evalue": "[Errno 2] No such file or directory: '../input/q2-housing-data/Q2_housing_data.csv'",
     "output_type": "error",
     "traceback": [
      "\u001b[1;31m---------------------------------------------------------------------------\u001b[0m",
      "\u001b[1;31mFileNotFoundError\u001b[0m                         Traceback (most recent call last)",
      "\u001b[1;32m<ipython-input-2-141c77a88530>\u001b[0m in \u001b[0;36m<module>\u001b[1;34m\u001b[0m\n\u001b[1;32m----> 1\u001b[1;33m \u001b[0mdata\u001b[0m \u001b[1;33m=\u001b[0m \u001b[0mpd\u001b[0m\u001b[1;33m.\u001b[0m\u001b[0mread_csv\u001b[0m\u001b[1;33m(\u001b[0m\u001b[1;34m\"../input/q2-housing-data/Q2_housing_data.csv\"\u001b[0m\u001b[1;33m)\u001b[0m\u001b[1;33m\u001b[0m\u001b[1;33m\u001b[0m\u001b[0m\n\u001b[0m",
      "\u001b[1;32m~\\anaconda3\\lib\\site-packages\\pandas\\io\\parsers.py\u001b[0m in \u001b[0;36mread_csv\u001b[1;34m(filepath_or_buffer, sep, delimiter, header, names, index_col, usecols, squeeze, prefix, mangle_dupe_cols, dtype, engine, converters, true_values, false_values, skipinitialspace, skiprows, skipfooter, nrows, na_values, keep_default_na, na_filter, verbose, skip_blank_lines, parse_dates, infer_datetime_format, keep_date_col, date_parser, dayfirst, cache_dates, iterator, chunksize, compression, thousands, decimal, lineterminator, quotechar, quoting, doublequote, escapechar, comment, encoding, dialect, error_bad_lines, warn_bad_lines, delim_whitespace, low_memory, memory_map, float_precision)\u001b[0m\n\u001b[0;32m    684\u001b[0m     )\n\u001b[0;32m    685\u001b[0m \u001b[1;33m\u001b[0m\u001b[0m\n\u001b[1;32m--> 686\u001b[1;33m     \u001b[1;32mreturn\u001b[0m \u001b[0m_read\u001b[0m\u001b[1;33m(\u001b[0m\u001b[0mfilepath_or_buffer\u001b[0m\u001b[1;33m,\u001b[0m \u001b[0mkwds\u001b[0m\u001b[1;33m)\u001b[0m\u001b[1;33m\u001b[0m\u001b[1;33m\u001b[0m\u001b[0m\n\u001b[0m\u001b[0;32m    687\u001b[0m \u001b[1;33m\u001b[0m\u001b[0m\n\u001b[0;32m    688\u001b[0m \u001b[1;33m\u001b[0m\u001b[0m\n",
      "\u001b[1;32m~\\anaconda3\\lib\\site-packages\\pandas\\io\\parsers.py\u001b[0m in \u001b[0;36m_read\u001b[1;34m(filepath_or_buffer, kwds)\u001b[0m\n\u001b[0;32m    450\u001b[0m \u001b[1;33m\u001b[0m\u001b[0m\n\u001b[0;32m    451\u001b[0m     \u001b[1;31m# Create the parser.\u001b[0m\u001b[1;33m\u001b[0m\u001b[1;33m\u001b[0m\u001b[1;33m\u001b[0m\u001b[0m\n\u001b[1;32m--> 452\u001b[1;33m     \u001b[0mparser\u001b[0m \u001b[1;33m=\u001b[0m \u001b[0mTextFileReader\u001b[0m\u001b[1;33m(\u001b[0m\u001b[0mfp_or_buf\u001b[0m\u001b[1;33m,\u001b[0m \u001b[1;33m**\u001b[0m\u001b[0mkwds\u001b[0m\u001b[1;33m)\u001b[0m\u001b[1;33m\u001b[0m\u001b[1;33m\u001b[0m\u001b[0m\n\u001b[0m\u001b[0;32m    453\u001b[0m \u001b[1;33m\u001b[0m\u001b[0m\n\u001b[0;32m    454\u001b[0m     \u001b[1;32mif\u001b[0m \u001b[0mchunksize\u001b[0m \u001b[1;32mor\u001b[0m \u001b[0miterator\u001b[0m\u001b[1;33m:\u001b[0m\u001b[1;33m\u001b[0m\u001b[1;33m\u001b[0m\u001b[0m\n",
      "\u001b[1;32m~\\anaconda3\\lib\\site-packages\\pandas\\io\\parsers.py\u001b[0m in \u001b[0;36m__init__\u001b[1;34m(self, f, engine, **kwds)\u001b[0m\n\u001b[0;32m    944\u001b[0m             \u001b[0mself\u001b[0m\u001b[1;33m.\u001b[0m\u001b[0moptions\u001b[0m\u001b[1;33m[\u001b[0m\u001b[1;34m\"has_index_names\"\u001b[0m\u001b[1;33m]\u001b[0m \u001b[1;33m=\u001b[0m \u001b[0mkwds\u001b[0m\u001b[1;33m[\u001b[0m\u001b[1;34m\"has_index_names\"\u001b[0m\u001b[1;33m]\u001b[0m\u001b[1;33m\u001b[0m\u001b[1;33m\u001b[0m\u001b[0m\n\u001b[0;32m    945\u001b[0m \u001b[1;33m\u001b[0m\u001b[0m\n\u001b[1;32m--> 946\u001b[1;33m         \u001b[0mself\u001b[0m\u001b[1;33m.\u001b[0m\u001b[0m_make_engine\u001b[0m\u001b[1;33m(\u001b[0m\u001b[0mself\u001b[0m\u001b[1;33m.\u001b[0m\u001b[0mengine\u001b[0m\u001b[1;33m)\u001b[0m\u001b[1;33m\u001b[0m\u001b[1;33m\u001b[0m\u001b[0m\n\u001b[0m\u001b[0;32m    947\u001b[0m \u001b[1;33m\u001b[0m\u001b[0m\n\u001b[0;32m    948\u001b[0m     \u001b[1;32mdef\u001b[0m \u001b[0mclose\u001b[0m\u001b[1;33m(\u001b[0m\u001b[0mself\u001b[0m\u001b[1;33m)\u001b[0m\u001b[1;33m:\u001b[0m\u001b[1;33m\u001b[0m\u001b[1;33m\u001b[0m\u001b[0m\n",
      "\u001b[1;32m~\\anaconda3\\lib\\site-packages\\pandas\\io\\parsers.py\u001b[0m in \u001b[0;36m_make_engine\u001b[1;34m(self, engine)\u001b[0m\n\u001b[0;32m   1176\u001b[0m     \u001b[1;32mdef\u001b[0m \u001b[0m_make_engine\u001b[0m\u001b[1;33m(\u001b[0m\u001b[0mself\u001b[0m\u001b[1;33m,\u001b[0m \u001b[0mengine\u001b[0m\u001b[1;33m=\u001b[0m\u001b[1;34m\"c\"\u001b[0m\u001b[1;33m)\u001b[0m\u001b[1;33m:\u001b[0m\u001b[1;33m\u001b[0m\u001b[1;33m\u001b[0m\u001b[0m\n\u001b[0;32m   1177\u001b[0m         \u001b[1;32mif\u001b[0m \u001b[0mengine\u001b[0m \u001b[1;33m==\u001b[0m \u001b[1;34m\"c\"\u001b[0m\u001b[1;33m:\u001b[0m\u001b[1;33m\u001b[0m\u001b[1;33m\u001b[0m\u001b[0m\n\u001b[1;32m-> 1178\u001b[1;33m             \u001b[0mself\u001b[0m\u001b[1;33m.\u001b[0m\u001b[0m_engine\u001b[0m \u001b[1;33m=\u001b[0m \u001b[0mCParserWrapper\u001b[0m\u001b[1;33m(\u001b[0m\u001b[0mself\u001b[0m\u001b[1;33m.\u001b[0m\u001b[0mf\u001b[0m\u001b[1;33m,\u001b[0m \u001b[1;33m**\u001b[0m\u001b[0mself\u001b[0m\u001b[1;33m.\u001b[0m\u001b[0moptions\u001b[0m\u001b[1;33m)\u001b[0m\u001b[1;33m\u001b[0m\u001b[1;33m\u001b[0m\u001b[0m\n\u001b[0m\u001b[0;32m   1179\u001b[0m         \u001b[1;32melse\u001b[0m\u001b[1;33m:\u001b[0m\u001b[1;33m\u001b[0m\u001b[1;33m\u001b[0m\u001b[0m\n\u001b[0;32m   1180\u001b[0m             \u001b[1;32mif\u001b[0m \u001b[0mengine\u001b[0m \u001b[1;33m==\u001b[0m \u001b[1;34m\"python\"\u001b[0m\u001b[1;33m:\u001b[0m\u001b[1;33m\u001b[0m\u001b[1;33m\u001b[0m\u001b[0m\n",
      "\u001b[1;32m~\\anaconda3\\lib\\site-packages\\pandas\\io\\parsers.py\u001b[0m in \u001b[0;36m__init__\u001b[1;34m(self, src, **kwds)\u001b[0m\n\u001b[0;32m   2006\u001b[0m         \u001b[0mkwds\u001b[0m\u001b[1;33m[\u001b[0m\u001b[1;34m\"usecols\"\u001b[0m\u001b[1;33m]\u001b[0m \u001b[1;33m=\u001b[0m \u001b[0mself\u001b[0m\u001b[1;33m.\u001b[0m\u001b[0musecols\u001b[0m\u001b[1;33m\u001b[0m\u001b[1;33m\u001b[0m\u001b[0m\n\u001b[0;32m   2007\u001b[0m \u001b[1;33m\u001b[0m\u001b[0m\n\u001b[1;32m-> 2008\u001b[1;33m         \u001b[0mself\u001b[0m\u001b[1;33m.\u001b[0m\u001b[0m_reader\u001b[0m \u001b[1;33m=\u001b[0m \u001b[0mparsers\u001b[0m\u001b[1;33m.\u001b[0m\u001b[0mTextReader\u001b[0m\u001b[1;33m(\u001b[0m\u001b[0msrc\u001b[0m\u001b[1;33m,\u001b[0m \u001b[1;33m**\u001b[0m\u001b[0mkwds\u001b[0m\u001b[1;33m)\u001b[0m\u001b[1;33m\u001b[0m\u001b[1;33m\u001b[0m\u001b[0m\n\u001b[0m\u001b[0;32m   2009\u001b[0m         \u001b[0mself\u001b[0m\u001b[1;33m.\u001b[0m\u001b[0munnamed_cols\u001b[0m \u001b[1;33m=\u001b[0m \u001b[0mself\u001b[0m\u001b[1;33m.\u001b[0m\u001b[0m_reader\u001b[0m\u001b[1;33m.\u001b[0m\u001b[0munnamed_cols\u001b[0m\u001b[1;33m\u001b[0m\u001b[1;33m\u001b[0m\u001b[0m\n\u001b[0;32m   2010\u001b[0m \u001b[1;33m\u001b[0m\u001b[0m\n",
      "\u001b[1;32mpandas\\_libs\\parsers.pyx\u001b[0m in \u001b[0;36mpandas._libs.parsers.TextReader.__cinit__\u001b[1;34m()\u001b[0m\n",
      "\u001b[1;32mpandas\\_libs\\parsers.pyx\u001b[0m in \u001b[0;36mpandas._libs.parsers.TextReader._setup_parser_source\u001b[1;34m()\u001b[0m\n",
      "\u001b[1;31mFileNotFoundError\u001b[0m: [Errno 2] No such file or directory: '../input/q2-housing-data/Q2_housing_data.csv'"
     ]
    }
   ],
   "source": [
    "data = pd.read_csv(\"../input/q2-housing-data/Q2_housing_data.csv\")"
   ]
  },
  {
   "cell_type": "code",
   "execution_count": null,
   "metadata": {
    "execution": {
     "iopub.execute_input": "2021-10-17T04:11:31.470822Z",
     "iopub.status.busy": "2021-10-17T04:11:31.470574Z",
     "iopub.status.idle": "2021-10-17T04:11:31.498526Z",
     "shell.execute_reply": "2021-10-17T04:11:31.497664Z",
     "shell.execute_reply.started": "2021-10-17T04:11:31.470787Z"
    }
   },
   "outputs": [],
   "source": [
    "data.head()"
   ]
  },
  {
   "cell_type": "code",
   "execution_count": 3,
   "metadata": {
    "execution": {
     "iopub.execute_input": "2021-10-17T04:11:31.500413Z",
     "iopub.status.busy": "2021-10-17T04:11:31.499850Z",
     "iopub.status.idle": "2021-10-17T04:11:31.516857Z",
     "shell.execute_reply": "2021-10-17T04:11:31.515940Z",
     "shell.execute_reply.started": "2021-10-17T04:11:31.500375Z"
    }
   },
   "outputs": [
    {
     "ename": "NameError",
     "evalue": "name 'data' is not defined",
     "output_type": "error",
     "traceback": [
      "\u001b[1;31m---------------------------------------------------------------------------\u001b[0m",
      "\u001b[1;31mNameError\u001b[0m                                 Traceback (most recent call last)",
      "\u001b[1;32m<ipython-input-3-304fa4ce4ebd>\u001b[0m in \u001b[0;36m<module>\u001b[1;34m\u001b[0m\n\u001b[1;32m----> 1\u001b[1;33m \u001b[0mdata\u001b[0m\u001b[1;33m.\u001b[0m\u001b[0mhead\u001b[0m\u001b[1;33m(\u001b[0m\u001b[1;33m)\u001b[0m\u001b[1;33m\u001b[0m\u001b[1;33m\u001b[0m\u001b[0m\n\u001b[0m",
      "\u001b[1;31mNameError\u001b[0m: name 'data' is not defined"
     ]
    }
   ],
   "source": [
    "data.head()"
   ]
  },
  {
   "cell_type": "code",
   "execution_count": 4,
   "metadata": {
    "execution": {
     "iopub.execute_input": "2021-10-17T04:11:31.519033Z",
     "iopub.status.busy": "2021-10-17T04:11:31.518491Z",
     "iopub.status.idle": "2021-10-17T04:11:31.528284Z",
     "shell.execute_reply": "2021-10-17T04:11:31.527366Z",
     "shell.execute_reply.started": "2021-10-17T04:11:31.518972Z"
    }
   },
   "outputs": [
    {
     "ename": "NameError",
     "evalue": "name 'data' is not defined",
     "output_type": "error",
     "traceback": [
      "\u001b[1;31m---------------------------------------------------------------------------\u001b[0m",
      "\u001b[1;31mNameError\u001b[0m                                 Traceback (most recent call last)",
      "\u001b[1;32m<ipython-input-4-047ed65ff157>\u001b[0m in \u001b[0;36m<module>\u001b[1;34m\u001b[0m\n\u001b[1;32m----> 1\u001b[1;33m \u001b[0mdata\u001b[0m\u001b[1;33m.\u001b[0m\u001b[0mshape\u001b[0m\u001b[1;33m\u001b[0m\u001b[1;33m\u001b[0m\u001b[0m\n\u001b[0m",
      "\u001b[1;31mNameError\u001b[0m: name 'data' is not defined"
     ]
    }
   ],
   "source": [
    "data.shape"
   ]
  },
  {
   "cell_type": "code",
   "execution_count": null,
   "metadata": {
    "execution": {
     "iopub.execute_input": "2021-10-17T04:11:31.531964Z",
     "iopub.status.busy": "2021-10-17T04:11:31.531549Z",
     "iopub.status.idle": "2021-10-17T04:11:31.543253Z",
     "shell.execute_reply": "2021-10-17T04:11:31.542275Z",
     "shell.execute_reply.started": "2021-10-17T04:11:31.531925Z"
    }
   },
   "outputs": [],
   "source": [
    "data.isna().any()"
   ]
  },
  {
   "cell_type": "code",
   "execution_count": null,
   "metadata": {
    "execution": {
     "iopub.execute_input": "2021-10-17T04:11:31.545072Z",
     "iopub.status.busy": "2021-10-17T04:11:31.544778Z",
     "iopub.status.idle": "2021-10-17T04:11:31.558036Z",
     "shell.execute_reply": "2021-10-17T04:11:31.556910Z",
     "shell.execute_reply.started": "2021-10-17T04:11:31.545040Z"
    }
   },
   "outputs": [],
   "source": [
    "data.isna().sum()"
   ]
  },
  {
   "cell_type": "code",
   "execution_count": null,
   "metadata": {
    "execution": {
     "iopub.execute_input": "2021-10-17T04:11:31.559981Z",
     "iopub.status.busy": "2021-10-17T04:11:31.559632Z",
     "iopub.status.idle": "2021-10-17T04:11:31.573489Z",
     "shell.execute_reply": "2021-10-17T04:11:31.572837Z",
     "shell.execute_reply.started": "2021-10-17T04:11:31.559943Z"
    }
   },
   "outputs": [],
   "source": [
    "data.dropna(inplace=True)"
   ]
  },
  {
   "cell_type": "code",
   "execution_count": 5,
   "metadata": {
    "execution": {
     "iopub.execute_input": "2021-10-17T04:11:31.576325Z",
     "iopub.status.busy": "2021-10-17T04:11:31.576117Z",
     "iopub.status.idle": "2021-10-17T04:11:31.587400Z",
     "shell.execute_reply": "2021-10-17T04:11:31.586494Z",
     "shell.execute_reply.started": "2021-10-17T04:11:31.576302Z"
    }
   },
   "outputs": [
    {
     "ename": "NameError",
     "evalue": "name 'data' is not defined",
     "output_type": "error",
     "traceback": [
      "\u001b[1;31m---------------------------------------------------------------------------\u001b[0m",
      "\u001b[1;31mNameError\u001b[0m                                 Traceback (most recent call last)",
      "\u001b[1;32m<ipython-input-5-811a2046da5d>\u001b[0m in \u001b[0;36m<module>\u001b[1;34m\u001b[0m\n\u001b[1;32m----> 1\u001b[1;33m \u001b[0mdata\u001b[0m\u001b[1;33m.\u001b[0m\u001b[0misna\u001b[0m\u001b[1;33m(\u001b[0m\u001b[1;33m)\u001b[0m\u001b[1;33m.\u001b[0m\u001b[0msum\u001b[0m\u001b[1;33m(\u001b[0m\u001b[1;33m)\u001b[0m\u001b[1;33m\u001b[0m\u001b[1;33m\u001b[0m\u001b[0m\n\u001b[0m",
      "\u001b[1;31mNameError\u001b[0m: name 'data' is not defined"
     ]
    }
   ],
   "source": [
    "data.isna().sum()"
   ]
  },
  {
   "cell_type": "code",
   "execution_count": null,
   "metadata": {
    "execution": {
     "iopub.execute_input": "2021-10-17T04:11:31.588938Z",
     "iopub.status.busy": "2021-10-17T04:11:31.588627Z",
     "iopub.status.idle": "2021-10-17T04:11:31.610370Z",
     "shell.execute_reply": "2021-10-17T04:11:31.609663Z",
     "shell.execute_reply.started": "2021-10-17T04:11:31.588903Z"
    }
   },
   "outputs": [],
   "source": [
    "data.info()"
   ]
  },
  {
   "cell_type": "code",
   "execution_count": null,
   "metadata": {
    "execution": {
     "iopub.execute_input": "2021-10-17T04:11:31.611909Z",
     "iopub.status.busy": "2021-10-17T04:11:31.611632Z",
     "iopub.status.idle": "2021-10-17T04:11:31.621443Z",
     "shell.execute_reply": "2021-10-17T04:11:31.620343Z",
     "shell.execute_reply.started": "2021-10-17T04:11:31.611873Z"
    }
   },
   "outputs": [],
   "source": [
    "data['ocean_proximity'].value_counts()\n"
   ]
  },
  {
   "cell_type": "code",
   "execution_count": 6,
   "metadata": {
    "execution": {
     "iopub.execute_input": "2021-10-17T04:11:31.623278Z",
     "iopub.status.busy": "2021-10-17T04:11:31.623023Z",
     "iopub.status.idle": "2021-10-17T04:11:31.664505Z",
     "shell.execute_reply": "2021-10-17T04:11:31.663643Z",
     "shell.execute_reply.started": "2021-10-17T04:11:31.623247Z"
    }
   },
   "outputs": [
    {
     "ename": "NameError",
     "evalue": "name 'data' is not defined",
     "output_type": "error",
     "traceback": [
      "\u001b[1;31m---------------------------------------------------------------------------\u001b[0m",
      "\u001b[1;31mNameError\u001b[0m                                 Traceback (most recent call last)",
      "\u001b[1;32m<ipython-input-6-2bb0b18689d4>\u001b[0m in \u001b[0;36m<module>\u001b[1;34m\u001b[0m\n\u001b[1;32m----> 1\u001b[1;33m \u001b[0mdata\u001b[0m\u001b[1;33m.\u001b[0m\u001b[0mdescribe\u001b[0m\u001b[1;33m(\u001b[0m\u001b[1;33m)\u001b[0m\u001b[1;33m\u001b[0m\u001b[1;33m\u001b[0m\u001b[0m\n\u001b[0m",
      "\u001b[1;31mNameError\u001b[0m: name 'data' is not defined"
     ]
    }
   ],
   "source": [
    "data.describe()"
   ]
  },
  {
   "cell_type": "markdown",
   "metadata": {},
   "source": [
    " Dividing the dataset into independant and dependant variables"
   ]
  },
  {
   "cell_type": "code",
   "execution_count": 13,
   "metadata": {
    "execution": {
     "iopub.execute_input": "2021-10-17T04:11:31.666339Z",
     "iopub.status.busy": "2021-10-17T04:11:31.666063Z",
     "iopub.status.idle": "2021-10-17T04:11:31.673861Z",
     "shell.execute_reply": "2021-10-17T04:11:31.673071Z",
     "shell.execute_reply.started": "2021-10-17T04:11:31.666303Z"
    }
   },
   "outputs": [],
   "source": [
    "X=pd.DataFrame(columns=['longitude','latitude','housing_median_age','total_rooms','total_bedrooms','population','households','median_income','ocean_proximity'],data=data)\n",
    "y=pd.DataFrame(columns=['median_house_value'],data=data)"
   ]
  },
  {
   "cell_type": "code",
   "execution_count": 14,
   "metadata": {
    "execution": {
     "iopub.execute_input": "2021-10-17T04:11:31.675884Z",
     "iopub.status.busy": "2021-10-17T04:11:31.675592Z",
     "iopub.status.idle": "2021-10-17T04:11:31.695478Z",
     "shell.execute_reply": "2021-10-17T04:11:31.694433Z",
     "shell.execute_reply.started": "2021-10-17T04:11:31.675846Z"
    }
   },
   "outputs": [],
   "source": [
    "X.head()"
   ]
  },
  {
   "cell_type": "code",
   "execution_count": 15,
   "metadata": {
    "execution": {
     "iopub.execute_input": "2021-10-17T04:11:31.700527Z",
     "iopub.status.busy": "2021-10-17T04:11:31.700277Z",
     "iopub.status.idle": "2021-10-17T04:11:31.709974Z",
     "shell.execute_reply": "2021-10-17T04:11:31.709104Z",
     "shell.execute_reply.started": "2021-10-17T04:11:31.700501Z"
    }
   },
   "outputs": [],
   "source": [
    "y.head()"
   ]
  },
  {
   "cell_type": "markdown",
   "metadata": {},
   "source": [
    "dummy values for ocean_proximity"
   ]
  },
  {
   "cell_type": "code",
   "execution_count": 16,
   "metadata": {
    "execution": {
     "iopub.execute_input": "2021-10-17T04:11:31.712136Z",
     "iopub.status.busy": "2021-10-17T04:11:31.711440Z",
     "iopub.status.idle": "2021-10-17T04:11:31.726666Z",
     "shell.execute_reply": "2021-10-17T04:11:31.725779Z",
     "shell.execute_reply.started": "2021-10-17T04:11:31.712074Z"
    }
   },
   "outputs": [],
   "source": [
    "X = pd.get_dummies(data = X, columns = ['ocean_proximity'] , prefix = ['ocean_proximity'] , drop_first = True)"
   ]
  },
  {
   "cell_type": "code",
   "execution_count": 17,
   "metadata": {
    "execution": {
     "iopub.execute_input": "2021-10-17T04:11:31.729688Z",
     "iopub.status.busy": "2021-10-17T04:11:31.727713Z",
     "iopub.status.idle": "2021-10-17T04:11:31.751104Z",
     "shell.execute_reply": "2021-10-17T04:11:31.750261Z",
     "shell.execute_reply.started": "2021-10-17T04:11:31.729647Z"
    }
   },
   "outputs": [],
   "source": [
    "X.head()"
   ]
  },
  {
   "cell_type": "code",
   "execution_count": 18,
   "metadata": {
    "execution": {
     "iopub.execute_input": "2021-10-17T04:11:31.753846Z",
     "iopub.status.busy": "2021-10-17T04:11:31.753413Z",
     "iopub.status.idle": "2021-10-17T04:11:31.837473Z",
     "shell.execute_reply": "2021-10-17T04:11:31.836789Z",
     "shell.execute_reply.started": "2021-10-17T04:11:31.753809Z"
    }
   },
   "outputs": [],
   "source": [
    "hcorr = data.corr()\n",
    "hcorr.style.background_gradient()"
   ]
  },
  {
   "cell_type": "markdown",
   "metadata": {},
   "source": [
    "Dividing the training data into test and train"
   ]
  },
  {
   "cell_type": "code",
   "execution_count": 19,
   "metadata": {
    "execution": {
     "iopub.execute_input": "2021-10-17T04:11:31.838620Z",
     "iopub.status.busy": "2021-10-17T04:11:31.838413Z",
     "iopub.status.idle": "2021-10-17T04:11:32.580688Z",
     "shell.execute_reply": "2021-10-17T04:11:32.579868Z",
     "shell.execute_reply.started": "2021-10-17T04:11:31.838596Z"
    }
   },
   "outputs": [],
   "source": [
    "from sklearn.model_selection import train_test_split"
   ]
  },
  {
   "cell_type": "code",
   "execution_count": 20,
   "metadata": {
    "execution": {
     "iopub.execute_input": "2021-10-17T04:11:32.582880Z",
     "iopub.status.busy": "2021-10-17T04:11:32.582110Z",
     "iopub.status.idle": "2021-10-17T04:11:32.595896Z",
     "shell.execute_reply": "2021-10-17T04:11:32.594907Z",
     "shell.execute_reply.started": "2021-10-17T04:11:32.582836Z"
    }
   },
   "outputs": [],
   "source": [
    "X_train, X_test, y_train, y_test = train_test_split(X, y, test_size = 0.2, random_state = 0)\n",
    "X_train.shape"
   ]
  },
  {
   "cell_type": "markdown",
   "metadata": {},
   "source": [
    "Feature Scaling"
   ]
  },
  {
   "cell_type": "code",
   "execution_count": 21,
   "metadata": {
    "execution": {
     "iopub.execute_input": "2021-10-17T04:11:32.597570Z",
     "iopub.status.busy": "2021-10-17T04:11:32.597299Z",
     "iopub.status.idle": "2021-10-17T04:11:32.614163Z",
     "shell.execute_reply": "2021-10-17T04:11:32.613374Z",
     "shell.execute_reply.started": "2021-10-17T04:11:32.597516Z"
    }
   },
   "outputs": [],
   "source": [
    "from sklearn.preprocessing import StandardScaler\n",
    "scaler = StandardScaler()\n",
    "X_train = scaler.fit_transform(X_train)\n",
    "X_test = scaler.transform(X_test)"
   ]
  },
  {
   "cell_type": "code",
   "execution_count": 22,
   "metadata": {
    "execution": {
     "iopub.execute_input": "2021-10-17T04:11:32.616098Z",
     "iopub.status.busy": "2021-10-17T04:11:32.615772Z",
     "iopub.status.idle": "2021-10-17T04:11:32.623611Z",
     "shell.execute_reply": "2021-10-17T04:11:32.622543Z",
     "shell.execute_reply.started": "2021-10-17T04:11:32.616059Z"
    }
   },
   "outputs": [],
   "source": [
    "X_train"
   ]
  },
  {
   "cell_type": "code",
   "execution_count": 23,
   "metadata": {
    "execution": {
     "iopub.execute_input": "2021-10-17T04:11:32.625816Z",
     "iopub.status.busy": "2021-10-17T04:11:32.625236Z",
     "iopub.status.idle": "2021-10-17T04:11:32.645751Z",
     "shell.execute_reply": "2021-10-17T04:11:32.644822Z",
     "shell.execute_reply.started": "2021-10-17T04:11:32.625762Z"
    }
   },
   "outputs": [],
   "source": [
    "X.head()"
   ]
  },
  {
   "cell_type": "code",
   "execution_count": 24,
   "metadata": {
    "execution": {
     "iopub.execute_input": "2021-10-17T04:11:32.647918Z",
     "iopub.status.busy": "2021-10-17T04:11:32.647499Z",
     "iopub.status.idle": "2021-10-17T04:11:34.752922Z",
     "shell.execute_reply": "2021-10-17T04:11:34.752227Z",
     "shell.execute_reply.started": "2021-10-17T04:11:32.647879Z"
    }
   },
   "outputs": [],
   "source": [
    "%matplotlib inline\n",
    "import matplotlib.pyplot as plt\n",
    "data.hist(bins=50, figsize=(20,15))\n",
    "plt.show()"
   ]
  },
  {
   "cell_type": "code",
   "execution_count": 25,
   "metadata": {
    "execution": {
     "iopub.execute_input": "2021-10-17T04:11:34.754858Z",
     "iopub.status.busy": "2021-10-17T04:11:34.754021Z",
     "iopub.status.idle": "2021-10-17T04:11:34.972401Z",
     "shell.execute_reply": "2021-10-17T04:11:34.971728Z",
     "shell.execute_reply.started": "2021-10-17T04:11:34.754810Z"
    }
   },
   "outputs": [],
   "source": [
    "data['median_income'].hist()\n",
    "plt.show()"
   ]
  },
  {
   "cell_type": "markdown",
   "metadata": {},
   "source": [
    "ANN"
   ]
  },
  {
   "cell_type": "code",
   "execution_count": 26,
   "metadata": {
    "execution": {
     "iopub.execute_input": "2021-10-17T04:11:34.974101Z",
     "iopub.status.busy": "2021-10-17T04:11:34.973805Z",
     "iopub.status.idle": "2021-10-17T04:11:39.723146Z",
     "shell.execute_reply": "2021-10-17T04:11:39.722292Z",
     "shell.execute_reply.started": "2021-10-17T04:11:34.974065Z"
    }
   },
   "outputs": [],
   "source": [
    "import tensorflow as tf\n",
    "\n",
    "from tensorflow import keras\n",
    "from tensorflow.keras import Sequential\n",
    "from tensorflow.keras.layers import Flatten, Dense, Softmax\n",
    "from tensorflow.keras import optimizers"
   ]
  },
  {
   "cell_type": "code",
   "execution_count": 27,
   "metadata": {
    "execution": {
     "iopub.execute_input": "2021-10-17T04:11:39.724727Z",
     "iopub.status.busy": "2021-10-17T04:11:39.724425Z",
     "iopub.status.idle": "2021-10-17T04:11:42.120477Z",
     "shell.execute_reply": "2021-10-17T04:11:42.118711Z",
     "shell.execute_reply.started": "2021-10-17T04:11:39.724690Z"
    }
   },
   "outputs": [],
   "source": [
    "model = Sequential()\n",
    "\n",
    "#Input Layer\n",
    "model.add(Dense(X.shape[1], activation='relu', input_dim = X.shape[1]))\n",
    "\n",
    "#Hidden Layer\n",
    "model.add(Dense(512,kernel_initializer='normal', activation='relu'))\n",
    "model.add(Dense(256,kernel_initializer='normal', activation='relu'))\n",
    "model.add(Dense(128,kernel_initializer='normal', activation='relu'))\n",
    "model.add(Dense(64,kernel_initializer='normal', activation='relu'))\n",
    "model.add(Dense(32,kernel_initializer='normal', activation='relu'))\n",
    "#Output Layer\n",
    "model.add(Dense(1,kernel_initializer='normal', activation = 'relu'))"
   ]
  },
  {
   "cell_type": "code",
   "execution_count": 28,
   "metadata": {
    "execution": {
     "iopub.execute_input": "2021-10-17T04:11:42.122040Z",
     "iopub.status.busy": "2021-10-17T04:11:42.121677Z",
     "iopub.status.idle": "2021-10-17T04:11:42.128331Z",
     "shell.execute_reply": "2021-10-17T04:11:42.127376Z",
     "shell.execute_reply.started": "2021-10-17T04:11:42.121998Z"
    }
   },
   "outputs": [],
   "source": [
    "X.shape[1]"
   ]
  },
  {
   "cell_type": "code",
   "execution_count": null,
   "metadata": {},
   "outputs": [],
   "source": []
  },
  {
   "cell_type": "code",
   "execution_count": 29,
   "metadata": {
    "execution": {
     "iopub.execute_input": "2021-10-17T04:11:42.129674Z",
     "iopub.status.busy": "2021-10-17T04:11:42.129394Z",
     "iopub.status.idle": "2021-10-17T04:11:42.150555Z",
     "shell.execute_reply": "2021-10-17T04:11:42.149705Z",
     "shell.execute_reply.started": "2021-10-17T04:11:42.129639Z"
    }
   },
   "outputs": [],
   "source": [
    "#Compile the network \n",
    "\n",
    "model.compile(loss='mse', optimizer='adam', metrics=['mse','mae'])\n",
    "model.summary()"
   ]
  },
  {
   "cell_type": "code",
   "execution_count": 30,
   "metadata": {
    "execution": {
     "iopub.execute_input": "2021-10-17T04:11:42.152260Z",
     "iopub.status.busy": "2021-10-17T04:11:42.151728Z",
     "iopub.status.idle": "2021-10-17T04:13:04.796112Z",
     "shell.execute_reply": "2021-10-17T04:13:04.795326Z",
     "shell.execute_reply.started": "2021-10-17T04:11:42.152222Z"
    }
   },
   "outputs": [],
   "source": [
    "history = model.fit(X_train, y_train.to_numpy(), batch_size = 64, epochs = 100, verbose = 1)"
   ]
  },
  {
   "cell_type": "code",
   "execution_count": 31,
   "metadata": {
    "execution": {
     "iopub.execute_input": "2021-10-17T04:13:04.797879Z",
     "iopub.status.busy": "2021-10-17T04:13:04.797626Z",
     "iopub.status.idle": "2021-10-17T04:13:04.995238Z",
     "shell.execute_reply": "2021-10-17T04:13:04.994592Z",
     "shell.execute_reply.started": "2021-10-17T04:13:04.797845Z"
    }
   },
   "outputs": [],
   "source": [
    "plt.figure(figsize=(8,4))\n",
    "plt.plot(history.history['loss'])"
   ]
  },
  {
   "cell_type": "code",
   "execution_count": 32,
   "metadata": {
    "execution": {
     "iopub.execute_input": "2021-10-17T04:13:04.996773Z",
     "iopub.status.busy": "2021-10-17T04:13:04.996480Z",
     "iopub.status.idle": "2021-10-17T04:13:05.043725Z",
     "shell.execute_reply": "2021-10-17T04:13:05.043101Z",
     "shell.execute_reply.started": "2021-10-17T04:13:04.996739Z"
    }
   },
   "outputs": [],
   "source": [
    "model.save(\"HousingPrice.h5\")"
   ]
  },
  {
   "cell_type": "code",
   "execution_count": 33,
   "metadata": {
    "execution": {
     "iopub.execute_input": "2021-10-17T04:13:05.045076Z",
     "iopub.status.busy": "2021-10-17T04:13:05.044788Z",
     "iopub.status.idle": "2021-10-17T04:13:05.088726Z",
     "shell.execute_reply": "2021-10-17T04:13:05.088059Z",
     "shell.execute_reply.started": "2021-10-17T04:13:05.045038Z"
    }
   },
   "outputs": [],
   "source": [
    "model.save(\"HousingPrice.h5\")"
   ]
  },
  {
   "cell_type": "code",
   "execution_count": null,
   "metadata": {},
   "outputs": [],
   "source": []
  },
  {
   "cell_type": "code",
   "execution_count": 34,
   "metadata": {
    "execution": {
     "iopub.execute_input": "2021-10-17T04:13:05.090314Z",
     "iopub.status.busy": "2021-10-17T04:13:05.090008Z",
     "iopub.status.idle": "2021-10-17T04:13:05.320997Z",
     "shell.execute_reply": "2021-10-17T04:13:05.320122Z",
     "shell.execute_reply.started": "2021-10-17T04:13:05.090280Z"
    }
   },
   "outputs": [],
   "source": [
    "y_pred = model.predict(X_test)"
   ]
  },
  {
   "cell_type": "code",
   "execution_count": 35,
   "metadata": {
    "execution": {
     "iopub.execute_input": "2021-10-17T04:13:05.323005Z",
     "iopub.status.busy": "2021-10-17T04:13:05.322757Z",
     "iopub.status.idle": "2021-10-17T04:13:05.331319Z",
     "shell.execute_reply": "2021-10-17T04:13:05.330151Z",
     "shell.execute_reply.started": "2021-10-17T04:13:05.322971Z"
    }
   },
   "outputs": [],
   "source": [
    "y_pred"
   ]
  },
  {
   "cell_type": "code",
   "execution_count": 36,
   "metadata": {
    "execution": {
     "iopub.execute_input": "2021-10-17T04:13:05.333703Z",
     "iopub.status.busy": "2021-10-17T04:13:05.333368Z",
     "iopub.status.idle": "2021-10-17T04:13:05.348576Z",
     "shell.execute_reply": "2021-10-17T04:13:05.347556Z",
     "shell.execute_reply.started": "2021-10-17T04:13:05.333663Z"
    }
   },
   "outputs": [],
   "source": [
    "y_test"
   ]
  },
  {
   "cell_type": "code",
   "execution_count": 37,
   "metadata": {
    "execution": {
     "iopub.execute_input": "2021-10-17T04:13:05.350581Z",
     "iopub.status.busy": "2021-10-17T04:13:05.350106Z",
     "iopub.status.idle": "2021-10-17T04:13:05.776082Z",
     "shell.execute_reply": "2021-10-17T04:13:05.775355Z",
     "shell.execute_reply.started": "2021-10-17T04:13:05.350527Z"
    }
   },
   "outputs": [],
   "source": [
    "model.evaluate(X_test, y_test)"
   ]
  },
  {
   "cell_type": "code",
   "execution_count": null,
   "metadata": {},
   "outputs": [],
   "source": []
  },
  {
   "cell_type": "markdown",
   "metadata": {
    "execution": {
     "iopub.execute_input": "2021-10-17T04:07:50.942926Z",
     "iopub.status.busy": "2021-10-17T04:07:50.942357Z"
    }
   },
   "source": [
    "\n"
   ]
  },
  {
   "cell_type": "code",
   "execution_count": 38,
   "metadata": {
    "execution": {
     "iopub.execute_input": "2021-10-17T04:13:05.777562Z",
     "iopub.status.busy": "2021-10-17T04:13:05.777268Z",
     "iopub.status.idle": "2021-10-17T04:13:48.872566Z",
     "shell.execute_reply": "2021-10-17T04:13:48.871897Z",
     "shell.execute_reply.started": "2021-10-17T04:13:05.777504Z"
    }
   },
   "outputs": [],
   "source": [
    "  def user_input():\n",
    "    myList = []\n",
    "    print(\"Enter longitude\")\n",
    "    myList.append(float(input()))\n",
    "    print(\"\\nEnter latitude\")\n",
    "    myList.append(float(input()))\n",
    "    print(\"\\nEnter housing_median_age\")\n",
    "    myList.append(float(input()))\n",
    "    print(\"\\nEnter total_rooms\")\n",
    "    myList.append(float(input()))\n",
    "    print(\"\\nEnter total_bedrooms\")\n",
    "    myList.append(float(input()))\n",
    "    print(\"\\nEnter population\")\n",
    "    myList.append(float(input()))\n",
    "    print(\"\\nEnter households\")\n",
    "    myList.append(float(input()))\n",
    "    print(\"\\nEnter median_income\")\n",
    "    myList.append(float(input()))\n",
    "    print(\"\\nOcean_proximity_INLAND\")\n",
    "    myList.append(int(input()))\n",
    "    print(\"\\nocean_proximity_ISLAND\")\n",
    "    myList.append(int(input()))\n",
    "    print(\"\\nocean_proximity_NEAR BAY\")\n",
    "    myList.append(int(input()))\n",
    "    print(\"\\nocean_proximity_NEAR OCEAN\")\n",
    "    myList.append(int(input()))\n",
    "    x_user = np.array(myList)\n",
    "    x_user = np.reshape(x_user, (1,-1))\n",
    "    return x_user\n",
    "\n",
    "x_user = user_input()\n",
    "x_user = scaler.transform(x_user)\n",
    "model.predict(x_user)"
   ]
  },
  {
   "cell_type": "code",
   "execution_count": 39,
   "metadata": {
    "execution": {
     "iopub.execute_input": "2021-10-17T04:13:48.874111Z",
     "iopub.status.busy": "2021-10-17T04:13:48.873868Z",
     "iopub.status.idle": "2021-10-17T04:13:48.877627Z",
     "shell.execute_reply": "2021-10-17T04:13:48.876955Z",
     "shell.execute_reply.started": "2021-10-17T04:13:48.874076Z"
    }
   },
   "outputs": [],
   "source": [
    "# -122.23  # 37.88 # 41 #  880 # 129 # 322 # 126 # 8.3252 # 452600 # 0 0 1 0  #"
   ]
  },
  {
   "cell_type": "code",
   "execution_count": 40,
   "metadata": {
    "execution": {
     "iopub.execute_input": "2021-10-17T04:13:48.879688Z",
     "iopub.status.busy": "2021-10-17T04:13:48.879109Z",
     "iopub.status.idle": "2021-10-17T04:13:48.893477Z",
     "shell.execute_reply": "2021-10-17T04:13:48.892831Z",
     "shell.execute_reply.started": "2021-10-17T04:13:48.879654Z"
    }
   },
   "outputs": [],
   "source": [
    "x_user.shape"
   ]
  },
  {
   "cell_type": "code",
   "execution_count": null,
   "metadata": {},
   "outputs": [],
   "source": []
  }
 ],
 "metadata": {
  "kernelspec": {
   "display_name": "Python 3",
   "language": "python",
   "name": "python3"
  },
  "language_info": {
   "codemirror_mode": {
    "name": "ipython",
    "version": 3
   },
   "file_extension": ".py",
   "mimetype": "text/x-python",
   "name": "python",
   "nbconvert_exporter": "python",
   "pygments_lexer": "ipython3",
   "version": "3.8.5"
  }
 },
 "nbformat": 4,
 "nbformat_minor": 4
}
